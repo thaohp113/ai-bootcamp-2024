{
 "cells": [
  {
   "cell_type": "code",
   "execution_count": 1,
   "metadata": {},
   "outputs": [
    {
     "name": "stdout",
     "output_type": "stream",
     "text": [
      "Cosine Similarity Array: [0.1 0.4 0.3 0.8 0.2 0.5]\n",
      "Document IDs: ['doc1', 'doc2', 'doc3', 'doc4', 'doc5', 'doc6']\n",
      "Top k Indices: [3 5 1]\n",
      "Top k Similarities: [np.float64(0.8), np.float64(0.5), np.float64(0.4)]\n",
      "Top k Document IDs: ['doc4', 'doc6', 'doc2']\n"
     ]
    }
   ],
   "source": [
    "import numpy as np\n",
    "\n",
    "# Example cosine similarity array\n",
    "cos_sim_arr = np.array([0.1, 0.4, 0.3, 0.8, 0.2, 0.5])\n",
    "\n",
    "# Corresponding document IDs\n",
    "doc_ids = ['doc1', 'doc2', 'doc3', 'doc4', 'doc5', 'doc6']\n",
    "\n",
    "# Number of top similar items we want to find\n",
    "similarity_top_k = 3\n",
    "\n",
    "# Get the indices of the top k most similar items\n",
    "top_k_indices = np.argsort(cos_sim_arr)[-similarity_top_k:][::-1]\n",
    "\n",
    "# Extract the top k similarities and corresponding document IDs\n",
    "similarities = [cos_sim_arr[i] for i in top_k_indices]\n",
    "node_ids = [doc_ids[i] for i in top_k_indices]\n",
    "\n",
    "print(\"Cosine Similarity Array:\", cos_sim_arr)\n",
    "print(\"Document IDs:\", doc_ids)\n",
    "print(\"Top k Indices:\", top_k_indices)\n",
    "print(\"Top k Similarities:\", similarities)\n",
    "print(\"Top k Document IDs:\", node_ids)\n"
   ]
  }
 ],
 "metadata": {
  "kernelspec": {
   "display_name": "rag-foundation",
   "language": "python",
   "name": "python3"
  },
  "language_info": {
   "codemirror_mode": {
    "name": "ipython",
    "version": 3
   },
   "file_extension": ".py",
   "mimetype": "text/x-python",
   "name": "python",
   "nbconvert_exporter": "python",
   "pygments_lexer": "ipython3",
   "version": "3.12.2"
  }
 },
 "nbformat": 4,
 "nbformat_minor": 2
}
